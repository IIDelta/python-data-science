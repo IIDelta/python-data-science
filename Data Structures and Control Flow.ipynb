{
 "cells": [
  {
   "cell_type": "markdown",
   "id": "f8ff21b9",
   "metadata": {},
   "source": [
    "# Python Data Structures and Control Workflow\n",
    "## Data Structures\n",
    "### Lists"
   ]
  },
  {
   "cell_type": "code",
   "execution_count": 1,
   "id": "d9fe0308",
   "metadata": {},
   "outputs": [
    {
     "name": "stdout",
     "output_type": "stream",
     "text": [
      "['headache', 'nausea', 'fatigue']\n"
     ]
    }
   ],
   "source": [
    "# with lists, we can store multiple items in a single variable. They are **ordered**, and **mutable** (you can change, add, and remove items)\n",
    "adverse_events = ['headache', 'nausea', 'fatigue']\n",
    "print(adverse_events)"
   ]
  },
  {
   "cell_type": "code",
   "execution_count": 2,
   "id": "c3832b20",
   "metadata": {},
   "outputs": [
    {
     "name": "stdout",
     "output_type": "stream",
     "text": [
      "['01-001', 45, 'male', 78.5]\n"
     ]
    }
   ],
   "source": [
    "# lists can also how different data types, though they will often be kept consistent\n",
    "mixed_list = ['01-001', 45, 'male', 78.5]\n",
    "print(mixed_list)"
   ]
  },
  {
   "cell_type": "code",
   "execution_count": 5,
   "id": "d564b66d",
   "metadata": {},
   "outputs": [
    {
     "name": "stdout",
     "output_type": "stream",
     "text": [
      "headache nausea\n",
      "['nausea', 'fatigue']\n",
      "['headache', 'nausea', 'fatigue']\n"
     ]
    }
   ],
   "source": [
    "# you may also access them by indexing and slicing\n",
    "print(adverse_events[0], adverse_events[1])\n",
    "\n",
    "# slicing - to get a range of items\n",
    "print(adverse_events[1:3])\n",
    "print(adverse_events[:3])"
   ]
  },
  {
   "cell_type": "code",
   "execution_count": 7,
   "id": "ab661c29",
   "metadata": {},
   "outputs": [
    {
     "name": "stdout",
     "output_type": "stream",
     "text": [
      "4\n"
     ]
    }
   ],
   "source": [
    "# lists can also be modified\n",
    "adverse_events[1] = 'dizziness'\n",
    "adverse_events.append(\"insomnia\")\n",
    "adverse_events.remove(\"fatigue\")\n",
    "print(len(adverse_events))"
   ]
  },
  {
   "cell_type": "markdown",
   "id": "f8d179ba",
   "metadata": {},
   "source": [
    "### Tuples\n",
    "Tuples are like lists but they are immutable. They cannot be changed after creation. Useful for making sure data stays consistent."
   ]
  },
  {
   "cell_type": "code",
   "execution_count": 8,
   "id": "58204216",
   "metadata": {},
   "outputs": [
    {
     "name": "stdout",
     "output_type": "stream",
     "text": [
      "('01-001', 'TP')\n"
     ]
    }
   ],
   "source": [
    "patient_assignment = (\"01-001\", \"TP\")\n",
    "print(patient_assignment)\n",
    "\n",
    "# accessing the items can be done the same as lists. But trying to change the list will result in an error.\n",
    "# e.g., \n",
    "# patient_assignment[1] = \"PL\""
   ]
  },
  {
   "cell_type": "markdown",
   "id": "6dfed554",
   "metadata": {},
   "source": [
    "### Dictionaries: The Lookup Table\n",
    "Dictionaries store data in key-value pairs. They are unordered and mutable. Useful for storing information where you want to look up values based on key-value pairs."
   ]
  },
  {
   "cell_type": "code",
   "execution_count": 12,
   "id": "f05115bd",
   "metadata": {},
   "outputs": [
    {
     "name": "stdout",
     "output_type": "stream",
     "text": [
      "{'PatientID': '01-001', 'Age': 58, 'Sex': 'Female', 'StudyArm': 'TP', 'BaselineBP': 150}\n"
     ]
    }
   ],
   "source": [
    "patient_demographics = {\n",
    "    \"PatientID\": \"01-001\",\n",
    "    \"Age\": 58,\n",
    "    \"Sex\": \"Female\",\n",
    "    \"StudyArm\": \"TP\",\n",
    "    \"BaselineBP\": 150\n",
    "}\n",
    "\n",
    "print(patient_demographics)"
   ]
  },
  {
   "cell_type": "code",
   "execution_count": 15,
   "id": "12dc7727",
   "metadata": {},
   "outputs": [
    {
     "name": "stdout",
     "output_type": "stream",
     "text": [
      "58\n",
      "140\n",
      "dict_keys(['PatientID', 'Age', 'Sex', 'StudyArm', 'BaselineBP', 'Site'])\n",
      "dict_values(['01-001', 58, 'Female', 'TP', 140, 'Site 01'])\n"
     ]
    }
   ],
   "source": [
    "# Accessing and modifying \n",
    "print(patient_demographics[\"Age\"])\n",
    "\n",
    "# add a new key-value pair\n",
    "patient_demographics[\"Site\"] = \"Site 01\"\n",
    "\n",
    "# Change an existing value\n",
    "patient_demographics[\"BaselineBP\"] = 140\n",
    "print(patient_demographics[\"BaselineBP\"])\n",
    "\n",
    "# get all keys or values\n",
    "print(patient_demographics.keys())\n",
    "print(patient_demographics.values())"
   ]
  },
  {
   "cell_type": "markdown",
   "id": "88b654b5",
   "metadata": {},
   "source": [
    "## Control Flow \n",
    "### Conditional statements (if, elif, else)\n",
    "Allows us to execute blocks based on if certain conditions are true"
   ]
  },
  {
   "cell_type": "code",
   "execution_count": 20,
   "id": "e07002a8",
   "metadata": {},
   "outputs": [
    {
     "name": "stdout",
     "output_type": "stream",
     "text": [
      "lab value high\n",
      "Monitor AEs\n",
      "Grade 2\n"
     ]
    }
   ],
   "source": [
    "lab_value = 10.5\n",
    "ae_severity = \"Moderate\"\n",
    "\n",
    "# simple if\n",
    "if lab_value > 10.0:\n",
    "    print(\"lab value high\")\n",
    "\n",
    "# if else\n",
    "if ae_severity == \"Severe\":\n",
    "    print(\"Action required\")\n",
    "else:\n",
    "    print(\"Monitor AEs\")\n",
    "\n",
    "# if, elif, else\n",
    "bp_systolic = 145\n",
    "\n",
    "if bp_systolic > 160:\n",
    "    print('Grade 3')\n",
    "elif bp_systolic > 140:\n",
    "    print(\"Grade 2\")\n",
    "elif bp_systolic > 130:\n",
    "    print(\"Grade 1\")\n",
    "else:\n",
    "    print(\"Normal blood pressure.\")\n"
   ]
  },
  {
   "cell_type": "markdown",
   "id": "87f4c59f",
   "metadata": {},
   "source": [
    "### Loops"
   ]
  },
  {
   "cell_type": "code",
   "execution_count": 29,
   "id": "e8196b8f",
   "metadata": {},
   "outputs": [
    {
     "name": "stdout",
     "output_type": "stream",
     "text": [
      "Recorded AE: Headache\n",
      "Recorded AE: Nausea\n",
      "Recorded AE: Fatigue\n",
      "Recorded AE: Dizziness\n",
      "Age: 58\n",
      "Sex: Female\n",
      "StudyArm: Treatment A\n",
      "Processing data for Visit 1\n",
      "Processing data for Visit 2\n",
      "Processing data for Visit 3\n",
      "Processing data for Visit 4\n",
      "Processing data for Visit 5\n"
     ]
    }
   ],
   "source": [
    "# for loops - iterate over a sequence like a list, tuple, or dictionary\n",
    "adverse_events = [\"Headache\", \"Nausea\", \"Fatigue\", \"Dizziness\"]\n",
    "\n",
    "# print each AE\n",
    "for event in adverse_events:\n",
    "    print(f\"Recorded AE: {event}\")\n",
    "\n",
    "# loop through patient data\n",
    "patient_demographics = {\"Age\": 58, \"Sex\": \"Female\", \"StudyArm\": \"Treatment A\"}\n",
    "for key, value in patient_demographics.items():\n",
    "    print(f\"{key}: {value}\")\n",
    "\n",
    "# Loop a specific number of times\n",
    "for visit_number in range(1, 6): # range(1, 6) gives numbers 1, 2, 3, 4, 5\n",
    "    print(f\"Processing data for Visit {visit_number}\")"
   ]
  },
  {
   "cell_type": "code",
   "execution_count": 30,
   "id": "d23696e3",
   "metadata": {},
   "outputs": [
    {
     "name": "stdout",
     "output_type": "stream",
     "text": [
      "Checking data integrity, pass 1\n",
      "Checking data integrity, pass 2\n",
      "Checking data integrity, pass 3\n"
     ]
    }
   ],
   "source": [
    "# while loops - repeat as long as the condition is true\n",
    "count = 0\n",
    "while count < 3:\n",
    "    print(f\"Checking data integrity, pass {count + 1}\")\n",
    "    count += 1"
   ]
  },
  {
   "cell_type": "markdown",
   "id": "0f36f4d5",
   "metadata": {},
   "source": [
    "## Functions: Reusable Code Blocks\n",
    "Functions allow you to package code so you can run it multiple times without rewriting it. They improve organization and reduce errors."
   ]
  },
  {
   "cell_type": "code",
   "execution_count": 31,
   "id": "818ae564",
   "metadata": {},
   "outputs": [
    {
     "name": "stdout",
     "output_type": "stream",
     "text": [
      "Hello, Medical Writer!\n",
      "Patient BP (145) is classified as: Grade 2\n"
     ]
    }
   ],
   "source": [
    "# A simple function\n",
    "def greet_user(name):\n",
    "  \"\"\"This function greets the user.\"\"\" # This is a docstring - good practice!\n",
    "  print(f\"Hello, {name}!\")\n",
    "\n",
    "# Calling the function\n",
    "greet_user(\"Medical Writer\")\n",
    "\n",
    "# A function with a return value\n",
    "def classify_bp(systolic):\n",
    "  \"\"\"Classifies blood pressure based on systolic value.\"\"\"\n",
    "  if systolic > 160:\n",
    "      return \"Grade 3\"\n",
    "  elif systolic > 140:\n",
    "      return \"Grade 2\"\n",
    "  elif systolic > 130:\n",
    "      return \"Grade 1\"\n",
    "  else:\n",
    "      return \"Normal\"\n",
    "\n",
    "# Using the function\n",
    "patient_bp = 145\n",
    "bp_grade = classify_bp(patient_bp)\n",
    "print(f\"Patient BP ({patient_bp}) is classified as: {bp_grade}\")"
   ]
  },
  {
   "cell_type": "markdown",
   "id": "91cb259a",
   "metadata": {},
   "source": [
    "# Practice\n",
    "Let's combine these concepts. Imagine you have a list of patient data (as dictionaries) and you need to write a function to screen them based on age and a specific lab value.\n",
    "\n"
   ]
  },
  {
   "cell_type": "code",
   "execution_count": 32,
   "id": "88c1bffd",
   "metadata": {},
   "outputs": [
    {
     "name": "stdout",
     "output_type": "stream",
     "text": [
      "Eligible Patient IDs: ['P001']\n"
     ]
    }
   ],
   "source": [
    "# 1. Sample Data (List of Dictionaries)\n",
    "patients = [\n",
    "    {\"ID\": \"P001\", \"Age\": 68, \"LabX\": 5.2},\n",
    "    {\"ID\": \"P002\", \"Age\": 77, \"LabX\": 6.1},\n",
    "    {\"ID\": \"P003\", \"Age\": 62, \"LabX\": 4.8},\n",
    "    {\"ID\": \"P004\", \"Age\": 80, \"LabX\": 7.0},\n",
    "]\n",
    "\n",
    "# 2. Screening Criteria\n",
    "MIN_AGE = 65\n",
    "MAX_LAB_X = 6.0\n",
    "\n",
    "# 3. Write a function to screen patients\n",
    "def screen_patients(patient_list, min_age_req, max_lab_req):\n",
    "    \"\"\"\n",
    "    Screens a list of patients and returns a list of eligible patient IDs.\n",
    "    Eligibility: Age >= min_age_req AND LabX <= max_lab_req.\n",
    "    \"\"\"\n",
    "    eligible_ids = [] # Start with an empty list for eligible patients\n",
    "    for patient in patient_list:\n",
    "        # Use 'if' to check both conditions\n",
    "        if patient[\"Age\"] >= min_age_req and patient[\"LabX\"] <= max_lab_req:\n",
    "            eligible_ids.append(patient[\"ID\"]) # Add ID if eligible\n",
    "    return eligible_ids\n",
    "\n",
    "# 4. Call the function and print the results\n",
    "eligible_patients = screen_patients(patients, MIN_AGE, MAX_LAB_X)\n",
    "print(f\"Eligible Patient IDs: {eligible_patients}\")\n",
    "# Expected Output: Eligible Patient IDs: ['P001']"
   ]
  },
  {
   "cell_type": "markdown",
   "id": "b7cbb8f8",
   "metadata": {},
   "source": [
    "Challenge: Modify the function to return two lists: one for eligible and one for ineligible patients.\n",
    "\n"
   ]
  },
  {
   "cell_type": "code",
   "execution_count": 37,
   "id": "3d8d5f7c",
   "metadata": {},
   "outputs": [
    {
     "name": "stdout",
     "output_type": "stream",
     "text": [
      "Eligible Patient IDs: ['P001'] \n",
      "Ineligible Patient IDs: ['P002', 'P003', 'P004']\n"
     ]
    }
   ],
   "source": [
    "# 1. Sample Data (List of Dictionaries)\n",
    "patients = [\n",
    "    {\"ID\": \"P001\", \"Age\": 68, \"LabX\": 5.2},\n",
    "    {\"ID\": \"P002\", \"Age\": 77, \"LabX\": 6.1},\n",
    "    {\"ID\": \"P003\", \"Age\": 62, \"LabX\": 4.8},\n",
    "    {\"ID\": \"P004\", \"Age\": 80, \"LabX\": 7.0},\n",
    "]\n",
    "\n",
    "# 2. Screening Criteria\n",
    "MIN_AGE = 65\n",
    "MAX_LAB_X = 6.0\n",
    "\n",
    "# 3. Write a function to screen patients\n",
    "def screen_patients(patient_list, min_age_req, max_lab_req):\n",
    "    \"\"\"\n",
    "    Screens a list of patients and returns a list of eligible patient IDs.\n",
    "    Eligibility: Age >= min_age_req AND LabX <= max_lab_req.\n",
    "    \"\"\"\n",
    "    eligible_ids = [] # Start with an empty list for eligible patients\n",
    "    ineligible_ids = []\n",
    "    for patient in patient_list:\n",
    "        # Use 'if' to check both conditions\n",
    "        if patient[\"Age\"] >= min_age_req and patient[\"LabX\"] <= max_lab_req:\n",
    "            eligible_ids.append(patient[\"ID\"]) # Add ID if eligible\n",
    "        else:\n",
    "            ineligible_ids.append(patient[\"ID\"])\n",
    "    return eligible_ids, ineligible_ids\n",
    "\n",
    "# 4. Call the function and print the results\n",
    "eligible_patients, ineligible_patients = screen_patients(patients, MIN_AGE, MAX_LAB_X)\n",
    "print(f\"Eligible Patient IDs: {eligible_patients}\", f\"\\nIneligible Patient IDs: {ineligible_patients}\")\n",
    "# Expected Output: Eligible Patient IDs: ['P001']"
   ]
  }
 ],
 "metadata": {
  "kernelspec": {
   "display_name": "Python 3",
   "language": "python",
   "name": "python3"
  },
  "language_info": {
   "codemirror_mode": {
    "name": "ipython",
    "version": 3
   },
   "file_extension": ".py",
   "mimetype": "text/x-python",
   "name": "python",
   "nbconvert_exporter": "python",
   "pygments_lexer": "ipython3",
   "version": "3.12.7"
  }
 },
 "nbformat": 4,
 "nbformat_minor": 5
}
